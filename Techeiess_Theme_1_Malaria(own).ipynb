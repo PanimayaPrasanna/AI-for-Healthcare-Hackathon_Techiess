{
  "nbformat": 4,
  "nbformat_minor": 0,
  "metadata": {
    "colab": {
      "name": "Techeiess_Theme_1_Malaria(own).ipynb",
      "provenance": [],
      "collapsed_sections": []
    },
    "kernelspec": {
      "name": "python3",
      "display_name": "Python 3"
    },
    "language_info": {
      "name": "python"
    },
    "accelerator": "GPU"
  },
  "cells": [
    {
      "cell_type": "code",
      "metadata": {
        "id": "j_AMKwxzAoP9"
      },
      "source": [
        "from tensorflow.keras.layers import Input, Lambda, Dense, Flatten,Conv2D\n",
        "from tensorflow.keras.models import Model\n",
        "from tensorflow.keras.applications.vgg19 import VGG19\n",
        "from tensorflow.keras.applications.resnet50 import preprocess_input\n",
        "from tensorflow.keras.preprocessing import image\n",
        "from tensorflow.keras.preprocessing.image import ImageDataGenerator,load_img\n",
        "from tensorflow.keras.models import Sequential\n",
        "import numpy as np\n",
        "from glob import glob\n",
        "import matplotlib.pyplot as plt"
      ],
      "execution_count": null,
      "outputs": []
    },
    {
      "cell_type": "code",
      "metadata": {
        "id": "FYVF7F_A5Lhi"
      },
      "source": [
        "IMAGE_SIZE = [224, 224]\n",
        "\n",
        "train_path = '/content/drive/MyDrive/ML competition/Malaria/cell_images/Train'\n",
        "valid_path = '/content/drive/MyDrive/ML competition/Malaria/cell_images/Test'"
      ],
      "execution_count": null,
      "outputs": []
    },
    {
      "cell_type": "code",
      "metadata": {
        "colab": {
          "base_uri": "https://localhost:8080/"
        },
        "id": "V4gX0r_s5poq",
        "outputId": "19bdc7cf-4e4f-4008-a612-a2590e5a6001"
      },
      "source": [
        "mobilnet = VGG19(input_shape=IMAGE_SIZE + [3], weights='imagenet', include_top=False)"
      ],
      "execution_count": null,
      "outputs": [
        {
          "output_type": "stream",
          "text": [
            "Downloading data from https://storage.googleapis.com/tensorflow/keras-applications/vgg19/vgg19_weights_tf_dim_ordering_tf_kernels_notop.h5\n",
            "80142336/80134624 [==============================] - 0s 0us/step\n"
          ],
          "name": "stdout"
        }
      ]
    },
    {
      "cell_type": "code",
      "metadata": {
        "id": "il1TPeny5zMT"
      },
      "source": [
        "for layer in mobilnet.layers:\n",
        "    layer.trainable = False"
      ],
      "execution_count": null,
      "outputs": []
    },
    {
      "cell_type": "code",
      "metadata": {
        "id": "_fAtyp6G59Gr"
      },
      "source": [
        "folders = glob('/content/drive/MyDrive/ML competition/Malaria/cell_images/Train/*')"
      ],
      "execution_count": null,
      "outputs": []
    },
    {
      "cell_type": "code",
      "metadata": {
        "colab": {
          "base_uri": "https://localhost:8080/"
        },
        "id": "y-QaFn7K6LAz",
        "outputId": "bb657e0b-bcaf-461b-b2fa-dc2363f3cf04"
      },
      "source": [
        "folders"
      ],
      "execution_count": null,
      "outputs": [
        {
          "output_type": "execute_result",
          "data": {
            "text/plain": [
              "['/content/drive/MyDrive/ML competition/Malaria/cell_images/Train/Parasitized',\n",
              " '/content/drive/MyDrive/ML competition/Malaria/cell_images/Train/Uninfected']"
            ]
          },
          "metadata": {
            "tags": []
          },
          "execution_count": 8
        }
      ]
    },
    {
      "cell_type": "code",
      "metadata": {
        "id": "ZBjmvTMa6jcd"
      },
      "source": [
        "x = Flatten()(mobilnet.output)"
      ],
      "execution_count": null,
      "outputs": []
    },
    {
      "cell_type": "code",
      "metadata": {
        "id": "p-eSKmSP6q4X"
      },
      "source": [
        "prediction = Dense(len(folders), activation='softmax')(x)\n",
        "\n",
        "# create a model object\n",
        "model = Model(inputs=mobilnet.input, outputs=prediction)"
      ],
      "execution_count": null,
      "outputs": []
    },
    {
      "cell_type": "code",
      "metadata": {
        "colab": {
          "base_uri": "https://localhost:8080/"
        },
        "id": "eWkDjs6N7GfI",
        "outputId": "d69461d6-618e-4a00-b889-949ca53b07a6"
      },
      "source": [
        "model.summary()"
      ],
      "execution_count": null,
      "outputs": [
        {
          "output_type": "stream",
          "text": [
            "Model: \"model\"\n",
            "_________________________________________________________________\n",
            "Layer (type)                 Output Shape              Param #   \n",
            "=================================================================\n",
            "input_1 (InputLayer)         [(None, 224, 224, 3)]     0         \n",
            "_________________________________________________________________\n",
            "block1_conv1 (Conv2D)        (None, 224, 224, 64)      1792      \n",
            "_________________________________________________________________\n",
            "block1_conv2 (Conv2D)        (None, 224, 224, 64)      36928     \n",
            "_________________________________________________________________\n",
            "block1_pool (MaxPooling2D)   (None, 112, 112, 64)      0         \n",
            "_________________________________________________________________\n",
            "block2_conv1 (Conv2D)        (None, 112, 112, 128)     73856     \n",
            "_________________________________________________________________\n",
            "block2_conv2 (Conv2D)        (None, 112, 112, 128)     147584    \n",
            "_________________________________________________________________\n",
            "block2_pool (MaxPooling2D)   (None, 56, 56, 128)       0         \n",
            "_________________________________________________________________\n",
            "block3_conv1 (Conv2D)        (None, 56, 56, 256)       295168    \n",
            "_________________________________________________________________\n",
            "block3_conv2 (Conv2D)        (None, 56, 56, 256)       590080    \n",
            "_________________________________________________________________\n",
            "block3_conv3 (Conv2D)        (None, 56, 56, 256)       590080    \n",
            "_________________________________________________________________\n",
            "block3_conv4 (Conv2D)        (None, 56, 56, 256)       590080    \n",
            "_________________________________________________________________\n",
            "block3_pool (MaxPooling2D)   (None, 28, 28, 256)       0         \n",
            "_________________________________________________________________\n",
            "block4_conv1 (Conv2D)        (None, 28, 28, 512)       1180160   \n",
            "_________________________________________________________________\n",
            "block4_conv2 (Conv2D)        (None, 28, 28, 512)       2359808   \n",
            "_________________________________________________________________\n",
            "block4_conv3 (Conv2D)        (None, 28, 28, 512)       2359808   \n",
            "_________________________________________________________________\n",
            "block4_conv4 (Conv2D)        (None, 28, 28, 512)       2359808   \n",
            "_________________________________________________________________\n",
            "block4_pool (MaxPooling2D)   (None, 14, 14, 512)       0         \n",
            "_________________________________________________________________\n",
            "block5_conv1 (Conv2D)        (None, 14, 14, 512)       2359808   \n",
            "_________________________________________________________________\n",
            "block5_conv2 (Conv2D)        (None, 14, 14, 512)       2359808   \n",
            "_________________________________________________________________\n",
            "block5_conv3 (Conv2D)        (None, 14, 14, 512)       2359808   \n",
            "_________________________________________________________________\n",
            "block5_conv4 (Conv2D)        (None, 14, 14, 512)       2359808   \n",
            "_________________________________________________________________\n",
            "block5_pool (MaxPooling2D)   (None, 7, 7, 512)         0         \n",
            "_________________________________________________________________\n",
            "flatten (Flatten)            (None, 25088)             0         \n",
            "_________________________________________________________________\n",
            "dense (Dense)                (None, 2)                 50178     \n",
            "=================================================================\n",
            "Total params: 20,074,562\n",
            "Trainable params: 50,178\n",
            "Non-trainable params: 20,024,384\n",
            "_________________________________________________________________\n"
          ],
          "name": "stdout"
        }
      ]
    },
    {
      "cell_type": "code",
      "metadata": {
        "id": "i6LYvJSn8WJ2"
      },
      "source": [
        "from tensorflow.keras.layers import MaxPooling2D"
      ],
      "execution_count": null,
      "outputs": []
    },
    {
      "cell_type": "code",
      "metadata": {
        "colab": {
          "base_uri": "https://localhost:8080/"
        },
        "id": "IueP63TO8YTO",
        "outputId": "0fee2c2c-4718-4d8c-e5fa-945584c61b13"
      },
      "source": [
        "model=Sequential()\n",
        "model.add(Conv2D(filters=16,kernel_size=2,padding=\"same\",activation=\"relu\",input_shape=(224,224,3)))\n",
        "model.add(MaxPooling2D(pool_size=2))\n",
        "model.add(Conv2D(filters=32,kernel_size=2,padding=\"same\",activation =\"relu\"))\n",
        "model.add(MaxPooling2D(pool_size=2))\n",
        "model.add(Conv2D(filters=64,kernel_size=2,padding=\"same\",activation=\"relu\"))\n",
        "model.add(MaxPooling2D(pool_size=2))\n",
        "model.add(Flatten())\n",
        "model.add(Dense(500,activation=\"relu\"))\n",
        "model.add(Dense(2,activation=\"softmax\"))\n",
        "model.summary()"
      ],
      "execution_count": null,
      "outputs": [
        {
          "output_type": "stream",
          "text": [
            "Model: \"sequential\"\n",
            "_________________________________________________________________\n",
            "Layer (type)                 Output Shape              Param #   \n",
            "=================================================================\n",
            "conv2d (Conv2D)              (None, 224, 224, 16)      208       \n",
            "_________________________________________________________________\n",
            "max_pooling2d (MaxPooling2D) (None, 112, 112, 16)      0         \n",
            "_________________________________________________________________\n",
            "conv2d_1 (Conv2D)            (None, 112, 112, 32)      2080      \n",
            "_________________________________________________________________\n",
            "max_pooling2d_1 (MaxPooling2 (None, 56, 56, 32)        0         \n",
            "_________________________________________________________________\n",
            "conv2d_2 (Conv2D)            (None, 56, 56, 64)        8256      \n",
            "_________________________________________________________________\n",
            "max_pooling2d_2 (MaxPooling2 (None, 28, 28, 64)        0         \n",
            "_________________________________________________________________\n",
            "flatten_1 (Flatten)          (None, 50176)             0         \n",
            "_________________________________________________________________\n",
            "dense_1 (Dense)              (None, 500)               25088500  \n",
            "_________________________________________________________________\n",
            "dense_2 (Dense)              (None, 2)                 1002      \n",
            "=================================================================\n",
            "Total params: 25,100,046\n",
            "Trainable params: 25,100,046\n",
            "Non-trainable params: 0\n",
            "_________________________________________________________________\n"
          ],
          "name": "stdout"
        }
      ]
    },
    {
      "cell_type": "code",
      "metadata": {
        "id": "BY9Ed7b78lLd"
      },
      "source": [
        "model.compile(\n",
        "  loss='categorical_crossentropy',\n",
        "  optimizer='adam',\n",
        "  metrics=['accuracy']\n",
        ")"
      ],
      "execution_count": null,
      "outputs": []
    },
    {
      "cell_type": "code",
      "metadata": {
        "id": "-HPqHC2z83uA"
      },
      "source": [
        "from tensorflow.keras.preprocessing.image import ImageDataGenerator\n",
        "\n",
        "train_datagen = ImageDataGenerator(rescale = 1./255,\n",
        "                                   shear_range = 0.2,\n",
        "                                   zoom_range = 0.2,\n",
        "                                   horizontal_flip = True)\n",
        "\n",
        "test_datagen = ImageDataGenerator(rescale = 1./255)"
      ],
      "execution_count": null,
      "outputs": []
    },
    {
      "cell_type": "code",
      "metadata": {
        "colab": {
          "base_uri": "https://localhost:8080/"
        },
        "id": "UzKZa6V587RZ",
        "outputId": "15c34be9-5374-4c26-f0e3-f073790cff69"
      },
      "source": [
        "training_set = train_datagen.flow_from_directory('/content/drive/MyDrive/ML competition/Malaria/cell_images/Train',\n",
        "                                                 target_size = (224, 224),\n",
        "                                                 batch_size = 32,\n",
        "                                                 class_mode = 'categorical')"
      ],
      "execution_count": null,
      "outputs": [
        {
          "output_type": "stream",
          "text": [
            "Found 27376 images belonging to 2 classes.\n"
          ],
          "name": "stdout"
        }
      ]
    },
    {
      "cell_type": "code",
      "metadata": {
        "colab": {
          "base_uri": "https://localhost:8080/"
        },
        "id": "oK_p0a989cb6",
        "outputId": "abf6b789-5522-4b75-fc1b-ba98080019d6"
      },
      "source": [
        "training_set"
      ],
      "execution_count": null,
      "outputs": [
        {
          "output_type": "execute_result",
          "data": {
            "text/plain": [
              "<tensorflow.python.keras.preprocessing.image.DirectoryIterator at 0x7fce900fbed0>"
            ]
          },
          "metadata": {
            "tags": []
          },
          "execution_count": 17
        }
      ]
    },
    {
      "cell_type": "code",
      "metadata": {
        "colab": {
          "base_uri": "https://localhost:8080/"
        },
        "id": "PYttG3ML9gK6",
        "outputId": "015e360a-e1ec-4cf9-86d3-b3e7038ffe56"
      },
      "source": [
        "\n",
        "test_set = test_datagen.flow_from_directory('/content/drive/MyDrive/ML competition/Malaria/cell_images/Test',\n",
        "                                            target_size = (224, 224),\n",
        "                                            batch_size = 32,\n",
        "                                            class_mode = 'categorical')"
      ],
      "execution_count": null,
      "outputs": [
        {
          "output_type": "stream",
          "text": [
            "Found 182 images belonging to 2 classes.\n"
          ],
          "name": "stdout"
        }
      ]
    },
    {
      "cell_type": "code",
      "metadata": {
        "colab": {
          "base_uri": "https://localhost:8080/"
        },
        "id": "KZQ08hAU_u-R",
        "outputId": "f2a7113f-7b80-4a74-e990-baef6286ab90"
      },
      "source": [
        "r = model.fit_generator(\n",
        "  training_set,\n",
        "  validation_data=test_set,\n",
        "  epochs=5,\n",
        "  steps_per_epoch=len(training_set),\n",
        "  validation_steps=len(test_set)\n",
        ")"
      ],
      "execution_count": null,
      "outputs": [
        {
          "output_type": "stream",
          "text": [
            "/usr/local/lib/python3.7/dist-packages/tensorflow/python/keras/engine/training.py:1940: UserWarning: `Model.fit_generator` is deprecated and will be removed in a future version. Please use `Model.fit`, which supports generators.\n",
            "  warnings.warn('`Model.fit_generator` is deprecated and '\n"
          ],
          "name": "stderr"
        },
        {
          "output_type": "stream",
          "text": [
            "Epoch 1/5\n",
            "856/856 [==============================] - 9215s 11s/step - loss: 0.3713 - accuracy: 0.8288 - val_loss: 0.2883 - val_accuracy: 0.8901\n",
            "Epoch 2/5\n",
            "856/856 [==============================] - 320s 374ms/step - loss: 0.2005 - accuracy: 0.9354 - val_loss: 0.2289 - val_accuracy: 0.9341\n",
            "Epoch 3/5\n",
            "856/856 [==============================] - 320s 374ms/step - loss: 0.1845 - accuracy: 0.9414 - val_loss: 0.1031 - val_accuracy: 0.9725\n",
            "Epoch 4/5\n",
            "856/856 [==============================] - 321s 375ms/step - loss: 0.1692 - accuracy: 0.9436 - val_loss: 0.1488 - val_accuracy: 0.9670\n",
            "Epoch 5/5\n",
            "856/856 [==============================] - 320s 373ms/step - loss: 0.1688 - accuracy: 0.9466 - val_loss: 0.1096 - val_accuracy: 0.9615\n"
          ],
          "name": "stdout"
        }
      ]
    },
    {
      "cell_type": "code",
      "metadata": {
        "colab": {
          "base_uri": "https://localhost:8080/",
          "height": 530
        },
        "id": "Jk9hddgvsivw",
        "outputId": "f23734ab-07e2-4bb0-edd1-9a6dd5b8c4d9"
      },
      "source": [
        "plt.plot(r.history['loss'], label='train loss')\n",
        "plt.plot(r.history['val_loss'], label='val loss')\n",
        "plt.legend()\n",
        "plt.show()\n",
        "plt.savefig('LossVal_loss')\n",
        "\n",
        "# plot the accuracy\n",
        "plt.plot(r.history['accuracy'], label='train acc')\n",
        "plt.plot(r.history['val_accuracy'], label='val acc')\n",
        "plt.legend()\n",
        "plt.show()\n",
        "plt.savefig('AccVal_acc')"
      ],
      "execution_count": null,
      "outputs": [
        {
          "output_type": "display_data",
          "data": {
            "image/png": "[encoded data removed]",
            "text/plain": [
              "<Figure size 432x288 with 1 Axes>"
            ]
          },
          "metadata": {
            "tags": [],
            "needs_background": "light"
          }
        },
        {
          "output_type": "display_data",
          "data": {
            "image/png": "[encoded data removed]",
            "text/plain": [
              "<Figure size 432x288 with 1 Axes>"
            ]
          },
          "metadata": {
            "tags": [],
            "needs_background": "light"
          }
        },
        {
          "output_type": "display_data",
          "data": {
            "text/plain": [
              "<Figure size 432x288 with 0 Axes>"
            ]
          },
          "metadata": {
            "tags": []
          }
        }
      ]
    },
    {
      "cell_type": "code",
      "metadata": {
        "id": "0lZ4BdFKsnlt",
        "colab": {
          "base_uri": "https://localhost:8080/",
          "height": 195
        },
        "outputId": "c741850c-c952-4797-b7f2-a8b8c73cdc71"
      },
      "source": [
        "from tensorflow.keras.models import load_model\n",
        "\n",
        "model.save('model_vgg19.h5')"
      ],
      "execution_count": null,
      "outputs": [
        {
          "output_type": "error",
          "ename": "NameError",
          "evalue": "ignored",
          "traceback": [
            "\u001b[0;31m---------------------------------------------------------------------------\u001b[0m",
            "\u001b[0;31mNameError\u001b[0m                                 Traceback (most recent call last)",
            "\u001b[0;32m<ipython-input-1-82da70196b8e>\u001b[0m in \u001b[0;36m<module>\u001b[0;34m()\u001b[0m\n\u001b[1;32m      1\u001b[0m \u001b[0;32mfrom\u001b[0m \u001b[0mtensorflow\u001b[0m\u001b[0;34m.\u001b[0m\u001b[0mkeras\u001b[0m\u001b[0;34m.\u001b[0m\u001b[0mmodels\u001b[0m \u001b[0;32mimport\u001b[0m \u001b[0mload_model\u001b[0m\u001b[0;34m\u001b[0m\u001b[0;34m\u001b[0m\u001b[0m\n\u001b[1;32m      2\u001b[0m \u001b[0;34m\u001b[0m\u001b[0m\n\u001b[0;32m----> 3\u001b[0;31m \u001b[0mmodel\u001b[0m\u001b[0;34m.\u001b[0m\u001b[0msave\u001b[0m\u001b[0;34m(\u001b[0m\u001b[0;34m'model_vgg19.h5'\u001b[0m\u001b[0;34m)\u001b[0m\u001b[0;34m\u001b[0m\u001b[0;34m\u001b[0m\u001b[0m\n\u001b[0m",
            "\u001b[0;31mNameError\u001b[0m: name 'model' is not defined"
          ]
        }
      ]
    },
    {
      "cell_type": "code",
      "metadata": {
        "id": "T2AtB1rCsrIy"
      },
      "source": [
        "\n",
        "y_pred = model.predict(test_set)"
      ],
      "execution_count": null,
      "outputs": []
    },
    {
      "cell_type": "code",
      "metadata": {
        "colab": {
          "base_uri": "https://localhost:8080/"
        },
        "id": "JBcmobdzsuzV",
        "outputId": "59833b57-7f52-478a-eb17-0ffd4d91bf48"
      },
      "source": [
        "y_pred"
      ],
      "execution_count": null,
      "outputs": [
        {
          "output_type": "execute_result",
          "data": {
            "text/plain": [
              "array([[4.0415909e-02, 9.5958406e-01],\n",
              "       [3.9984528e-02, 9.6001542e-01],\n",
              "       [3.7085701e-02, 9.6291429e-01],\n",
              "       [9.4490641e-01, 5.5093583e-02],\n",
              "       [9.6596664e-01, 3.4033347e-02],\n",
              "       [9.9996793e-01, 3.2098469e-05],\n",
              "       [3.5365429e-02, 9.6463460e-01],\n",
              "       [1.4693586e-02, 9.8530638e-01],\n",
              "       [9.6876287e-01, 3.1237155e-02],\n",
              "       [9.8592257e-01, 1.4077440e-02],\n",
              "       [9.9926859e-01, 7.3146576e-04],\n",
              "       [1.1055246e-02, 9.8894471e-01],\n",
              "       [2.5434020e-01, 7.4565977e-01],\n",
              "       [1.6657853e-02, 9.8334217e-01],\n",
              "       [3.2030836e-01, 6.7969161e-01],\n",
              "       [1.6892251e-02, 9.8310781e-01],\n",
              "       [2.7605357e-02, 9.7239459e-01],\n",
              "       [9.9855906e-01, 1.4409964e-03],\n",
              "       [9.8074329e-01, 1.9256696e-02],\n",
              "       [9.9867719e-01, 1.3227774e-03],\n",
              "       [9.9862802e-01, 1.3720493e-03],\n",
              "       [1.1105658e-02, 9.8889434e-01],\n",
              "       [9.8496675e-01, 1.5033236e-02],\n",
              "       [1.8998725e-02, 9.8100132e-01],\n",
              "       [2.2061715e-02, 9.7793829e-01],\n",
              "       [8.1150174e-02, 9.1884983e-01],\n",
              "       [1.7906843e-02, 9.8209321e-01],\n",
              "       [5.6658160e-02, 9.4334185e-01],\n",
              "       [8.2357675e-02, 9.1764230e-01],\n",
              "       [9.9882239e-01, 1.1776318e-03],\n",
              "       [3.3515271e-02, 9.6648473e-01],\n",
              "       [9.9971336e-01, 2.8658839e-04],\n",
              "       [9.9750024e-01, 2.4997029e-03],\n",
              "       [9.9403620e-01, 5.9637991e-03],\n",
              "       [2.0366043e-02, 9.7963399e-01],\n",
              "       [3.1278208e-02, 9.6872187e-01],\n",
              "       [9.9601680e-01, 3.9832424e-03],\n",
              "       [4.8226640e-02, 9.5177341e-01],\n",
              "       [2.2472944e-02, 9.7752702e-01],\n",
              "       [9.9644756e-01, 3.5524198e-03],\n",
              "       [9.7975814e-01, 2.0241804e-02],\n",
              "       [2.9445089e-02, 9.7055489e-01],\n",
              "       [9.2392750e-03, 9.9076080e-01],\n",
              "       [9.7004652e-01, 2.9953463e-02],\n",
              "       [9.9647248e-01, 3.5275829e-03],\n",
              "       [1.7728300e-01, 8.2271695e-01],\n",
              "       [9.0351421e-01, 9.6485771e-02],\n",
              "       [1.5239272e-02, 9.8476070e-01],\n",
              "       [4.5411520e-02, 9.5458853e-01],\n",
              "       [3.0638335e-02, 9.6936172e-01],\n",
              "       [2.6181132e-02, 9.7381884e-01],\n",
              "       [9.7777015e-01, 2.2229796e-02],\n",
              "       [1.2161838e-02, 9.8783815e-01],\n",
              "       [1.7645886e-02, 9.8235416e-01],\n",
              "       [2.2145059e-02, 9.7785497e-01],\n",
              "       [1.9257896e-02, 9.8074210e-01],\n",
              "       [9.9773729e-01, 2.2627036e-03],\n",
              "       [6.6827700e-02, 9.3317235e-01],\n",
              "       [9.9883157e-01, 1.1684814e-03],\n",
              "       [9.9413055e-01, 5.8694663e-03],\n",
              "       [1.7137472e-02, 9.8286253e-01],\n",
              "       [2.6253227e-02, 9.7374672e-01],\n",
              "       [9.8121291e-01, 1.8787058e-02],\n",
              "       [3.9448395e-02, 9.6055162e-01],\n",
              "       [9.9275452e-01, 7.2454293e-03],\n",
              "       [9.9969244e-01, 3.0754274e-04],\n",
              "       [9.8774135e-01, 1.2258642e-02],\n",
              "       [7.4820530e-01, 2.5179470e-01],\n",
              "       [9.9999058e-01, 9.3694043e-06],\n",
              "       [9.9966848e-01, 3.3156300e-04],\n",
              "       [9.9982566e-01, 1.7437548e-04],\n",
              "       [3.7071690e-02, 9.6292835e-01],\n",
              "       [9.8370993e-01, 1.6290048e-02],\n",
              "       [9.9989390e-01, 1.0609854e-04],\n",
              "       [3.6290348e-02, 9.6370965e-01],\n",
              "       [9.9014598e-01, 9.8540010e-03],\n",
              "       [7.2630358e-01, 2.7369642e-01],\n",
              "       [5.1475648e-02, 9.4852436e-01],\n",
              "       [1.0380663e-01, 8.9619333e-01],\n",
              "       [3.1323556e-02, 9.6867645e-01],\n",
              "       [9.4922319e-02, 9.0507776e-01],\n",
              "       [9.9625623e-01, 3.7437503e-03],\n",
              "       [5.9130069e-02, 9.4086993e-01],\n",
              "       [9.9937159e-01, 6.2845275e-04],\n",
              "       [9.4092625e-01, 5.9073757e-02],\n",
              "       [9.9969053e-01, 3.0953213e-04],\n",
              "       [9.9987400e-01, 1.2604299e-04],\n",
              "       [9.9955994e-01, 4.4006438e-04],\n",
              "       [5.2150872e-02, 9.4784915e-01],\n",
              "       [9.9662721e-01, 3.3727875e-03],\n",
              "       [2.9461170e-02, 9.7053885e-01],\n",
              "       [8.6411089e-01, 1.3588910e-01],\n",
              "       [3.0635893e-02, 9.6936417e-01],\n",
              "       [3.4228675e-02, 9.6577138e-01],\n",
              "       [1.9471116e-02, 9.8052889e-01],\n",
              "       [9.9598074e-01, 4.0192278e-03],\n",
              "       [2.7992399e-02, 9.7200757e-01],\n",
              "       [1.7219830e-02, 9.8278022e-01],\n",
              "       [1.9815596e-02, 9.8018438e-01],\n",
              "       [1.1491255e-02, 9.8850876e-01],\n",
              "       [9.6752053e-01, 3.2479536e-02],\n",
              "       [9.9512720e-01, 4.8727510e-03],\n",
              "       [9.9599361e-01, 4.0064156e-03],\n",
              "       [1.0705401e-01, 8.9294600e-01],\n",
              "       [4.2520154e-02, 9.5747983e-01],\n",
              "       [9.9999964e-01, 3.7404791e-07],\n",
              "       [9.6765268e-01, 3.2347348e-02],\n",
              "       [1.6498461e-02, 9.8350149e-01],\n",
              "       [2.9669501e-02, 9.7033048e-01],\n",
              "       [8.0137372e-01, 1.9862626e-01],\n",
              "       [1.2294970e-02, 9.8770499e-01],\n",
              "       [9.9883658e-01, 1.1634530e-03],\n",
              "       [9.7252065e-01, 2.7479315e-02],\n",
              "       [2.3671713e-02, 9.7632831e-01],\n",
              "       [9.6786523e-01, 3.2134749e-02],\n",
              "       [1.4098156e-02, 9.8590183e-01],\n",
              "       [6.6040866e-02, 9.3395913e-01],\n",
              "       [2.4618434e-02, 9.7538155e-01],\n",
              "       [1.3434504e-02, 9.8656553e-01],\n",
              "       [4.6222395e-01, 5.3777611e-01],\n",
              "       [9.7803009e-01, 2.1969883e-02],\n",
              "       [9.9201488e-01, 7.9851011e-03],\n",
              "       [9.9743289e-01, 2.5671585e-03],\n",
              "       [8.1860936e-01, 1.8139064e-01],\n",
              "       [4.3827042e-02, 9.5617300e-01],\n",
              "       [9.9930799e-01, 6.9198193e-04],\n",
              "       [9.2553657e-01, 7.4463405e-02],\n",
              "       [9.9993813e-01, 6.1861254e-05],\n",
              "       [8.2609051e-01, 1.7390947e-01],\n",
              "       [9.4614238e-01, 5.3857628e-02],\n",
              "       [6.7475326e-03, 9.9325246e-01],\n",
              "       [6.4613551e-01, 3.5386449e-01],\n",
              "       [1.1730877e-02, 9.8826909e-01],\n",
              "       [9.4301778e-01, 5.6982271e-02],\n",
              "       [7.1924293e-01, 2.8075710e-01],\n",
              "       [8.1757677e-01, 1.8242329e-01],\n",
              "       [1.5540834e-02, 9.8445916e-01],\n",
              "       [9.9996316e-01, 3.6834397e-05],\n",
              "       [9.9714655e-01, 2.8535069e-03],\n",
              "       [2.3858394e-02, 9.7614163e-01],\n",
              "       [1.5060517e-01, 8.4939480e-01],\n",
              "       [9.6807837e-01, 3.1921599e-02],\n",
              "       [1.6992612e-01, 8.3007389e-01],\n",
              "       [3.5687245e-02, 9.6431279e-01],\n",
              "       [2.1961704e-02, 9.7803831e-01],\n",
              "       [6.9070387e-01, 3.0929613e-01],\n",
              "       [9.8853058e-01, 1.1469468e-02],\n",
              "       [9.9962091e-01, 3.7911543e-04],\n",
              "       [9.9993634e-01, 6.3601714e-05],\n",
              "       [1.1360611e-02, 9.8863935e-01],\n",
              "       [4.2635210e-02, 9.5736474e-01],\n",
              "       [4.6839166e-01, 5.3160828e-01],\n",
              "       [6.7394383e-02, 9.3260556e-01],\n",
              "       [1.2040545e-02, 9.8795950e-01],\n",
              "       [3.0170033e-02, 9.6982992e-01],\n",
              "       [2.1855107e-02, 9.7814494e-01],\n",
              "       [3.3774231e-02, 9.6622580e-01],\n",
              "       [7.7658445e-01, 2.2341548e-01],\n",
              "       [2.0771103e-02, 9.7922885e-01],\n",
              "       [9.9405128e-01, 5.9486604e-03],\n",
              "       [9.9875188e-01, 1.2480963e-03],\n",
              "       [1.3918489e-02, 9.8608148e-01],\n",
              "       [9.9997258e-01, 2.7431222e-05],\n",
              "       [9.9988306e-01, 1.1697823e-04],\n",
              "       [2.4100260e-01, 7.5899744e-01],\n",
              "       [9.1586038e-03, 9.9084139e-01],\n",
              "       [1.6672667e-02, 9.8332733e-01],\n",
              "       [1.7064042e-01, 8.2935959e-01],\n",
              "       [9.7531700e-01, 2.4683040e-02],\n",
              "       [9.9985015e-01, 1.4979883e-04],\n",
              "       [3.1627823e-02, 9.6837217e-01],\n",
              "       [4.9542569e-02, 9.5045745e-01],\n",
              "       [6.1536659e-02, 9.3846339e-01],\n",
              "       [2.2357339e-02, 9.7764266e-01],\n",
              "       [1.4701990e-02, 9.8529804e-01],\n",
              "       [1.8780045e-02, 9.8121989e-01],\n",
              "       [9.8578840e-01, 1.4211559e-02],\n",
              "       [7.3162201e-03, 9.9268383e-01],\n",
              "       [5.6788858e-02, 9.4321120e-01],\n",
              "       [9.9010360e-01, 9.8964283e-03],\n",
              "       [3.7404403e-01, 6.2595600e-01],\n",
              "       [4.4031896e-02, 9.5596814e-01]], dtype=float32)"
            ]
          },
          "metadata": {
            "tags": []
          },
          "execution_count": 24
        }
      ]
    },
    {
      "cell_type": "code",
      "metadata": {
        "id": "xUs3Z8F-szat"
      },
      "source": [
        "import numpy as np\n",
        "y_pred = np.argmax(y_pred, axis=1)"
      ],
      "execution_count": null,
      "outputs": []
    },
    {
      "cell_type": "code",
      "metadata": {
        "colab": {
          "base_uri": "https://localhost:8080/"
        },
        "id": "oWPj-oqfs16v",
        "outputId": "e8adbcf0-3f70-419b-fa8e-5e3ead3a1cc2"
      },
      "source": [
        "\n",
        "y_pred"
      ],
      "execution_count": null,
      "outputs": [
        {
          "output_type": "execute_result",
          "data": {
            "text/plain": [
              "array([1, 1, 1, 0, 0, 0, 1, 1, 0, 0, 0, 1, 1, 1, 1, 1, 1, 0, 0, 0, 0, 1,\n",
              "       0, 1, 1, 1, 1, 1, 1, 0, 1, 0, 0, 0, 1, 1, 0, 1, 1, 0, 0, 1, 1, 0,\n",
              "       0, 1, 0, 1, 1, 1, 1, 0, 1, 1, 1, 1, 0, 1, 0, 0, 1, 1, 0, 1, 0, 0,\n",
              "       0, 0, 0, 0, 0, 1, 0, 0, 1, 0, 0, 1, 1, 1, 1, 0, 1, 0, 0, 0, 0, 0,\n",
              "       1, 0, 1, 0, 1, 1, 1, 0, 1, 1, 1, 1, 0, 0, 0, 1, 1, 0, 0, 1, 1, 0,\n",
              "       1, 0, 0, 1, 0, 1, 1, 1, 1, 1, 0, 0, 0, 0, 1, 0, 0, 0, 0, 0, 1, 0,\n",
              "       1, 0, 0, 0, 1, 0, 0, 1, 1, 0, 1, 1, 1, 0, 0, 0, 0, 1, 1, 1, 1, 1,\n",
              "       1, 1, 1, 0, 1, 0, 0, 1, 0, 0, 1, 1, 1, 1, 0, 0, 1, 1, 1, 1, 1, 1,\n",
              "       0, 1, 1, 0, 1, 1])"
            ]
          },
          "metadata": {
            "tags": []
          },
          "execution_count": 26
        }
      ]
    },
    {
      "cell_type": "code",
      "metadata": {
        "id": "A6bzV9V5s4kr"
      },
      "source": [
        "from tensorflow.keras.models import load_model\n",
        "from tensorflow.keras.preprocessing import image"
      ],
      "execution_count": null,
      "outputs": []
    },
    {
      "cell_type": "code",
      "metadata": {
        "id": "tEKpRHDzs8E_"
      },
      "source": [
        "model=load_model('model_vgg19.h5')"
      ],
      "execution_count": null,
      "outputs": []
    },
    {
      "cell_type": "code",
      "metadata": {
        "id": "BCn5BzsLtAFo",
        "colab": {
          "base_uri": "https://localhost:8080/",
          "height": 162
        },
        "outputId": "85cdece6-fa0c-4bb8-9325-6b6ce20d64d0"
      },
      "source": [
        "img=image.load_img('/content/drive/MyDrive/ML competition/Malaria/cell_images/Test/Uninfected/C1_thinF_IMG_20150604_104722_cell_115.png',target_size=(224,224))"
      ],
      "execution_count": null,
      "outputs": [
        {
          "output_type": "error",
          "ename": "NameError",
          "evalue": "ignored",
          "traceback": [
            "\u001b[0;31m---------------------------------------------------------------------------\u001b[0m",
            "\u001b[0;31mNameError\u001b[0m                                 Traceback (most recent call last)",
            "\u001b[0;32m<ipython-input-2-7b403c5cb8a3>\u001b[0m in \u001b[0;36m<module>\u001b[0;34m()\u001b[0m\n\u001b[0;32m----> 1\u001b[0;31m \u001b[0mimg\u001b[0m\u001b[0;34m=\u001b[0m\u001b[0mimage\u001b[0m\u001b[0;34m.\u001b[0m\u001b[0mload_img\u001b[0m\u001b[0;34m(\u001b[0m\u001b[0;34m'/content/drive/MyDrive/ML competition/Malaria/cell_images/Test/Uninfected/C1_thinF_IMG_20150604_104722_cell_115.png'\u001b[0m\u001b[0;34m,\u001b[0m\u001b[0mtarget_size\u001b[0m\u001b[0;34m=\u001b[0m\u001b[0;34m(\u001b[0m\u001b[0;36m224\u001b[0m\u001b[0;34m,\u001b[0m\u001b[0;36m224\u001b[0m\u001b[0;34m)\u001b[0m\u001b[0;34m)\u001b[0m\u001b[0;34m\u001b[0m\u001b[0;34m\u001b[0m\u001b[0m\n\u001b[0m",
            "\u001b[0;31mNameError\u001b[0m: name 'image' is not defined"
          ]
        }
      ]
    },
    {
      "cell_type": "code",
      "metadata": {
        "colab": {
          "base_uri": "https://localhost:8080/"
        },
        "id": "mbvAqMMGtPiA",
        "outputId": "25eb227e-1c67-40be-c78e-90782187fc54"
      },
      "source": [
        "x=image.img_to_array(img)\n",
        "x"
      ],
      "execution_count": null,
      "outputs": [
        {
          "output_type": "execute_result",
          "data": {
            "text/plain": [
              "array([[[0., 0., 0.],\n",
              "        [0., 0., 0.],\n",
              "        [0., 0., 0.],\n",
              "        ...,\n",
              "        [0., 0., 0.],\n",
              "        [0., 0., 0.],\n",
              "        [0., 0., 0.]],\n",
              "\n",
              "       [[0., 0., 0.],\n",
              "        [0., 0., 0.],\n",
              "        [0., 0., 0.],\n",
              "        ...,\n",
              "        [0., 0., 0.],\n",
              "        [0., 0., 0.],\n",
              "        [0., 0., 0.]],\n",
              "\n",
              "       [[0., 0., 0.],\n",
              "        [0., 0., 0.],\n",
              "        [0., 0., 0.],\n",
              "        ...,\n",
              "        [0., 0., 0.],\n",
              "        [0., 0., 0.],\n",
              "        [0., 0., 0.]],\n",
              "\n",
              "       ...,\n",
              "\n",
              "       [[0., 0., 0.],\n",
              "        [0., 0., 0.],\n",
              "        [0., 0., 0.],\n",
              "        ...,\n",
              "        [0., 0., 0.],\n",
              "        [0., 0., 0.],\n",
              "        [0., 0., 0.]],\n",
              "\n",
              "       [[0., 0., 0.],\n",
              "        [0., 0., 0.],\n",
              "        [0., 0., 0.],\n",
              "        ...,\n",
              "        [0., 0., 0.],\n",
              "        [0., 0., 0.],\n",
              "        [0., 0., 0.]],\n",
              "\n",
              "       [[0., 0., 0.],\n",
              "        [0., 0., 0.],\n",
              "        [0., 0., 0.],\n",
              "        ...,\n",
              "        [0., 0., 0.],\n",
              "        [0., 0., 0.],\n",
              "        [0., 0., 0.]]], dtype=float32)"
            ]
          },
          "metadata": {
            "tags": []
          },
          "execution_count": 31
        }
      ]
    },
    {
      "cell_type": "code",
      "metadata": {
        "colab": {
          "base_uri": "https://localhost:8080/"
        },
        "id": "xRllWeSctTTn",
        "outputId": "ee7fb38f-1d0c-4667-b3e3-eae4a9b5161c"
      },
      "source": [
        "x.shape"
      ],
      "execution_count": null,
      "outputs": [
        {
          "output_type": "execute_result",
          "data": {
            "text/plain": [
              "(224, 224, 3)"
            ]
          },
          "metadata": {
            "tags": []
          },
          "execution_count": 32
        }
      ]
    },
    {
      "cell_type": "code",
      "metadata": {
        "id": "RekybUjZtWZj"
      },
      "source": [
        "x=x/255"
      ],
      "execution_count": null,
      "outputs": []
    },
    {
      "cell_type": "code",
      "metadata": {
        "colab": {
          "base_uri": "https://localhost:8080/"
        },
        "id": "pyPEH9NXtY4D",
        "outputId": "4cfec355-59ed-4340-ebc8-70cd98fe9b04"
      },
      "source": [
        "x=np.expand_dims(x,axis=0)\n",
        "img_data=preprocess_input(x)\n",
        "img_data.shape"
      ],
      "execution_count": null,
      "outputs": [
        {
          "output_type": "execute_result",
          "data": {
            "text/plain": [
              "(1, 224, 224, 3)"
            ]
          },
          "metadata": {
            "tags": []
          },
          "execution_count": 34
        }
      ]
    },
    {
      "cell_type": "code",
      "metadata": {
        "colab": {
          "base_uri": "https://localhost:8080/"
        },
        "id": "GDxziz3Ktbz2",
        "outputId": "34dba025-9d56-4e05-dd4c-1dd164f8a1a6"
      },
      "source": [
        "model.predict(img_data)"
      ],
      "execution_count": null,
      "outputs": [
        {
          "output_type": "execute_result",
          "data": {
            "text/plain": [
              "array([[1., 0.]], dtype=float32)"
            ]
          },
          "metadata": {
            "tags": []
          },
          "execution_count": 35
        }
      ]
    },
    {
      "cell_type": "code",
      "metadata": {
        "id": "DiEry93Gtfef"
      },
      "source": [
        "a=np.argmax(model.predict(img_data), axis=1)"
      ],
      "execution_count": null,
      "outputs": []
    },
    {
      "cell_type": "code",
      "metadata": {
        "colab": {
          "base_uri": "https://localhost:8080/"
        },
        "id": "XUomtXj-ti00",
        "outputId": "a579a425-637a-4ee9-9777-ae2074b7cd6c"
      },
      "source": [
        "if(a==1):\n",
        "    print(\"Uninfected\")\n",
        "else:\n",
        "    print(\"Infected\")"
      ],
      "execution_count": null,
      "outputs": [
        {
          "output_type": "stream",
          "text": [
            "Infected\n"
          ],
          "name": "stdout"
        }
      ]
    }
  ]
}